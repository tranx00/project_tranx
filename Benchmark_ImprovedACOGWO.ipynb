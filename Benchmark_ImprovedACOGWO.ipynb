{
 "cells": [
  {
   "cell_type": "code",
   "execution_count": 1,
   "metadata": {
    "colab": {
     "base_uri": "https://localhost:8080/"
    },
    "execution": {
     "iopub.execute_input": "2024-03-25T01:50:24.035212Z",
     "iopub.status.busy": "2024-03-25T01:50:24.034781Z",
     "iopub.status.idle": "2024-03-25T01:50:27.879542Z",
     "shell.execute_reply": "2024-03-25T01:50:27.878689Z",
     "shell.execute_reply.started": "2024-03-25T01:50:24.035183Z"
    },
    "id": "6tAQnAT6QfF7",
    "outputId": "1eaa6524-994e-4b45-ae27-5f14901143a8"
   },
   "outputs": [
    {
     "name": "stdout",
     "output_type": "stream",
     "text": [
      "Collecting ipython-autotime\n",
      "  Downloading ipython_autotime-0.3.2-py2.py3-none-any.whl (7.0 kB)\n",
      "Requirement already satisfied: ipython in /usr/local/lib/python3.9/dist-packages (from ipython-autotime) (8.5.0)\n",
      "Requirement already satisfied: stack-data in /usr/local/lib/python3.9/dist-packages (from ipython->ipython-autotime) (0.6.2)\n",
      "Requirement already satisfied: backcall in /usr/local/lib/python3.9/dist-packages (from ipython->ipython-autotime) (0.2.0)\n",
      "Requirement already satisfied: pickleshare in /usr/local/lib/python3.9/dist-packages (from ipython->ipython-autotime) (0.7.5)\n",
      "Requirement already satisfied: traitlets>=5 in /usr/local/lib/python3.9/dist-packages (from ipython->ipython-autotime) (5.8.1)\n",
      "Requirement already satisfied: pexpect>4.3 in /usr/local/lib/python3.9/dist-packages (from ipython->ipython-autotime) (4.8.0)\n",
      "Requirement already satisfied: pygments>=2.4.0 in /usr/local/lib/python3.9/dist-packages (from ipython->ipython-autotime) (2.14.0)\n",
      "Requirement already satisfied: prompt-toolkit<3.1.0,>3.0.1 in /usr/local/lib/python3.9/dist-packages (from ipython->ipython-autotime) (3.0.36)\n",
      "Requirement already satisfied: matplotlib-inline in /usr/local/lib/python3.9/dist-packages (from ipython->ipython-autotime) (0.1.6)\n",
      "Requirement already satisfied: jedi>=0.16 in /usr/local/lib/python3.9/dist-packages (from ipython->ipython-autotime) (0.18.2)\n",
      "Requirement already satisfied: decorator in /usr/local/lib/python3.9/dist-packages (from ipython->ipython-autotime) (5.1.1)\n",
      "Requirement already satisfied: parso<0.9.0,>=0.8.0 in /usr/local/lib/python3.9/dist-packages (from jedi>=0.16->ipython->ipython-autotime) (0.8.3)\n",
      "Requirement already satisfied: ptyprocess>=0.5 in /usr/local/lib/python3.9/dist-packages (from pexpect>4.3->ipython->ipython-autotime) (0.7.0)\n",
      "Requirement already satisfied: wcwidth in /usr/local/lib/python3.9/dist-packages (from prompt-toolkit<3.1.0,>3.0.1->ipython->ipython-autotime) (0.2.6)\n",
      "Requirement already satisfied: asttokens>=2.1.0 in /usr/local/lib/python3.9/dist-packages (from stack-data->ipython->ipython-autotime) (2.2.1)\n",
      "Requirement already satisfied: pure-eval in /usr/local/lib/python3.9/dist-packages (from stack-data->ipython->ipython-autotime) (0.2.2)\n",
      "Requirement already satisfied: executing>=1.2.0 in /usr/local/lib/python3.9/dist-packages (from stack-data->ipython->ipython-autotime) (1.2.0)\n",
      "Requirement already satisfied: six in /usr/lib/python3/dist-packages (from asttokens>=2.1.0->stack-data->ipython->ipython-autotime) (1.14.0)\n",
      "Installing collected packages: ipython-autotime\n",
      "Successfully installed ipython-autotime-0.3.2\n",
      "\u001b[33mWARNING: Running pip as the 'root' user can result in broken permissions and conflicting behaviour with the system package manager. It is recommended to use a virtual environment instead: https://pip.pypa.io/warnings/venv\u001b[0m\u001b[33m\n",
      "\u001b[0mtime: 369 µs (started: 2024-03-25 01:50:27 +00:00)\n"
     ]
    }
   ],
   "source": [
    "!pip install ipython-autotime\n",
    "%load_ext autotime"
   ]
  },
  {
   "cell_type": "code",
   "execution_count": 2,
   "metadata": {
    "colab": {
     "base_uri": "https://localhost:8080/"
    },
    "execution": {
     "iopub.execute_input": "2024-03-25T01:50:27.881399Z",
     "iopub.status.busy": "2024-03-25T01:50:27.881150Z",
     "iopub.status.idle": "2024-03-25T01:50:42.112426Z",
     "shell.execute_reply": "2024-03-25T01:50:42.111675Z",
     "shell.execute_reply.started": "2024-03-25T01:50:27.881357Z"
    },
    "id": "OdT7piwnQ9Q5",
    "outputId": "ca79fab1-a6f6-4ef9-b189-942c48c3f240"
   },
   "outputs": [
    {
     "name": "stdout",
     "output_type": "stream",
     "text": [
      "Collecting scikit-multilearn\n",
      "  Downloading scikit_multilearn-0.2.0-py3-none-any.whl (89 kB)\n",
      "\u001b[2K     \u001b[90m━━━━━━━━━━━━━━━━━━━━━━━━━━━━━━━━━━━━━━━━\u001b[0m \u001b[32m89.4/89.4 kB\u001b[0m \u001b[31m1.3 MB/s\u001b[0m eta \u001b[36m0:00:00\u001b[0mta \u001b[36m0:00:01\u001b[0m\n",
      "\u001b[?25hInstalling collected packages: scikit-multilearn\n",
      "Successfully installed scikit-multilearn-0.2.0\n",
      "\u001b[33mWARNING: Running pip as the 'root' user can result in broken permissions and conflicting behaviour with the system package manager. It is recommended to use a virtual environment instead: https://pip.pypa.io/warnings/venv\u001b[0m\u001b[33m\n",
      "\u001b[0mCollecting mealpy\n",
      "  Downloading mealpy-3.0.1-py3-none-any.whl (386 kB)\n",
      "\u001b[2K     \u001b[90m━━━━━━━━━━━━━━━━━━━━━━━━━━━━━━━━━━━━━━━\u001b[0m \u001b[32m386.3/386.3 kB\u001b[0m \u001b[31m8.5 MB/s\u001b[0m eta \u001b[36m0:00:00\u001b[0ma \u001b[36m0:00:01\u001b[0m\n",
      "\u001b[?25hRequirement already satisfied: scipy>=1.7.1 in /usr/local/lib/python3.9/dist-packages (from mealpy) (1.9.2)\n",
      "Requirement already satisfied: matplotlib>=3.3.0 in /usr/local/lib/python3.9/dist-packages (from mealpy) (3.6.1)\n",
      "Requirement already satisfied: pandas>=1.2.0 in /usr/local/lib/python3.9/dist-packages (from mealpy) (1.5.0)\n",
      "Collecting opfunu>=1.0.0\n",
      "  Downloading opfunu-1.0.2-py3-none-any.whl (13.0 MB)\n",
      "\u001b[2K     \u001b[90m━━━━━━━━━━━━━━━━━━━━━━━━━━━━━━━━━━━━━━━━\u001b[0m \u001b[32m13.0/13.0 MB\u001b[0m \u001b[31m26.9 MB/s\u001b[0m eta \u001b[36m0:00:00\u001b[0m00:01\u001b[0m00:01\u001b[0m\n",
      "\u001b[?25hRequirement already satisfied: numpy>=1.17.5 in /usr/local/lib/python3.9/dist-packages (from mealpy) (1.23.4)\n",
      "Requirement already satisfied: packaging>=20.0 in /usr/local/lib/python3.9/dist-packages (from matplotlib>=3.3.0->mealpy) (23.0)\n",
      "Requirement already satisfied: pillow>=6.2.0 in /usr/local/lib/python3.9/dist-packages (from matplotlib>=3.3.0->mealpy) (9.2.0)\n",
      "Requirement already satisfied: kiwisolver>=1.0.1 in /usr/local/lib/python3.9/dist-packages (from matplotlib>=3.3.0->mealpy) (1.4.4)\n",
      "Requirement already satisfied: cycler>=0.10 in /usr/local/lib/python3.9/dist-packages (from matplotlib>=3.3.0->mealpy) (0.11.0)\n",
      "Requirement already satisfied: pyparsing>=2.2.1 in /usr/local/lib/python3.9/dist-packages (from matplotlib>=3.3.0->mealpy) (3.0.9)\n",
      "Requirement already satisfied: contourpy>=1.0.1 in /usr/local/lib/python3.9/dist-packages (from matplotlib>=3.3.0->mealpy) (1.0.7)\n",
      "Requirement already satisfied: python-dateutil>=2.7 in /usr/local/lib/python3.9/dist-packages (from matplotlib>=3.3.0->mealpy) (2.8.2)\n",
      "Requirement already satisfied: fonttools>=4.22.0 in /usr/local/lib/python3.9/dist-packages (from matplotlib>=3.3.0->mealpy) (4.38.0)\n",
      "Requirement already satisfied: requests>=2.27.0 in /usr/local/lib/python3.9/dist-packages (from opfunu>=1.0.0->mealpy) (2.28.2)\n",
      "Requirement already satisfied: pytz>=2020.1 in /usr/local/lib/python3.9/dist-packages (from pandas>=1.2.0->mealpy) (2022.7.1)\n",
      "Requirement already satisfied: six>=1.5 in /usr/lib/python3/dist-packages (from python-dateutil>=2.7->matplotlib>=3.3.0->mealpy) (1.14.0)\n",
      "Requirement already satisfied: urllib3<1.27,>=1.21.1 in /usr/local/lib/python3.9/dist-packages (from requests>=2.27.0->opfunu>=1.0.0->mealpy) (1.26.14)\n",
      "Requirement already satisfied: certifi>=2017.4.17 in /usr/lib/python3/dist-packages (from requests>=2.27.0->opfunu>=1.0.0->mealpy) (2019.11.28)\n",
      "Requirement already satisfied: charset-normalizer<4,>=2 in /usr/local/lib/python3.9/dist-packages (from requests>=2.27.0->opfunu>=1.0.0->mealpy) (2.1.1)\n",
      "Requirement already satisfied: idna<4,>=2.5 in /usr/lib/python3/dist-packages (from requests>=2.27.0->opfunu>=1.0.0->mealpy) (2.8)\n",
      "Installing collected packages: opfunu, mealpy\n",
      "Successfully installed mealpy-3.0.1 opfunu-1.0.2\n",
      "\u001b[33mWARNING: Running pip as the 'root' user can result in broken permissions and conflicting behaviour with the system package manager. It is recommended to use a virtual environment instead: https://pip.pypa.io/warnings/venv\u001b[0m\u001b[33m\n",
      "\u001b[0mCollecting permetrics\n",
      "  Downloading permetrics-2.0.0-py3-none-any.whl (52 kB)\n",
      "\u001b[2K     \u001b[90m━━━━━━━━━━━━━━━━━━━━━━━━━━━━━━━━━━━━━━━━\u001b[0m \u001b[32m52.6/52.6 kB\u001b[0m \u001b[31m7.9 MB/s\u001b[0m eta \u001b[36m0:00:00\u001b[0m\n",
      "\u001b[?25hRequirement already satisfied: numpy>=1.15.1 in /usr/local/lib/python3.9/dist-packages (from permetrics) (1.23.4)\n",
      "Requirement already satisfied: scipy>=1.7.1 in /usr/local/lib/python3.9/dist-packages (from permetrics) (1.9.2)\n",
      "Installing collected packages: permetrics\n",
      "Successfully installed permetrics-2.0.0\n",
      "\u001b[33mWARNING: Running pip as the 'root' user can result in broken permissions and conflicting behaviour with the system package manager. It is recommended to use a virtual environment instead: https://pip.pypa.io/warnings/venv\u001b[0m\u001b[33m\n",
      "\u001b[0mtime: 14.2 s (started: 2024-03-25 01:50:27 +00:00)\n"
     ]
    }
   ],
   "source": [
    "!pip install scikit-multilearn\n",
    "!pip install mealpy\n",
    "!pip install permetrics"
   ]
  },
  {
   "cell_type": "code",
   "execution_count": 3,
   "metadata": {
    "colab": {
     "base_uri": "https://localhost:8080/"
    },
    "execution": {
     "iopub.execute_input": "2024-03-25T01:50:42.114151Z",
     "iopub.status.busy": "2024-03-25T01:50:42.113910Z",
     "iopub.status.idle": "2024-03-25T01:50:44.021848Z",
     "shell.execute_reply": "2024-03-25T01:50:44.020842Z",
     "shell.execute_reply.started": "2024-03-25T01:50:42.114125Z"
    },
    "id": "HlBH5ll1Q_fj",
    "outputId": "c005c151-8069-499b-acef-f266dbe9c036"
   },
   "outputs": [
    {
     "name": "stdout",
     "output_type": "stream",
     "text": [
      "time: 1.9 s (started: 2024-03-25 01:50:42 +00:00)\n"
     ]
    }
   ],
   "source": [
    "import os\n",
    "import zipfile\n",
    "import csv\n",
    "import string\n",
    "import sys\n",
    "import warnings\n",
    "import matplotlib.pyplot as plt\n",
    "import seaborn as sns\n",
    "import pandas as pd\n",
    "import numpy as np\n",
    "import pickle\n",
    "import logging\n",
    "import multiprocessing\n",
    "\n",
    "from sklearn.preprocessing import MinMaxScaler, StandardScaler, MaxAbsScaler\n",
    "from sklearn.pipeline import Pipeline\n",
    "from sklearn.model_selection import train_test_split\n",
    "from sklearn.feature_extraction.text import CountVectorizer,TfidfVectorizer\n",
    "from sklearn.feature_selection import mutual_info_classif, f_classif, chi2, SelectKBest\n",
    "from sklearn.metrics import accuracy_score, precision_score, recall_score, f1_score, classification_report, confusion_matrix, hamming_loss\n",
    "from sklearn.multiclass import OneVsRestClassifier as OVR\n",
    "from sklearn.naive_bayes import MultinomialNB, ComplementNB, CategoricalNB\n",
    "from sklearn.svm import LinearSVC\n",
    "\n",
    "%matplotlib inline"
   ]
  },
  {
   "cell_type": "code",
   "execution_count": 4,
   "metadata": {
    "colab": {
     "base_uri": "https://localhost:8080/"
    },
    "execution": {
     "iopub.execute_input": "2024-03-25T01:50:44.023480Z",
     "iopub.status.busy": "2024-03-25T01:50:44.023036Z",
     "iopub.status.idle": "2024-03-25T01:50:44.084673Z",
     "shell.execute_reply": "2024-03-25T01:50:44.083570Z",
     "shell.execute_reply.started": "2024-03-25T01:50:44.023453Z"
    },
    "id": "qZ9u-D8wRAVr",
    "outputId": "5c62a4a3-cf1f-44ca-c50f-41e7044cc2ad"
   },
   "outputs": [
    {
     "name": "stdout",
     "output_type": "stream",
     "text": [
      "time: 56.1 ms (started: 2024-03-25 01:50:44 +00:00)\n"
     ]
    }
   ],
   "source": [
    "from mealpy import Optimizer, FloatVar, Multitask\n",
    "from mealpy.swarm_based import GWO, ACOR\n",
    "\n",
    "from skmultilearn.problem_transform import BinaryRelevance, ClassifierChain, LabelPowerset"
   ]
  },
  {
   "cell_type": "code",
   "execution_count": 5,
   "metadata": {
    "execution": {
     "iopub.execute_input": "2024-03-25T01:50:44.087416Z",
     "iopub.status.busy": "2024-03-25T01:50:44.087079Z",
     "iopub.status.idle": "2024-03-25T01:50:44.093052Z",
     "shell.execute_reply": "2024-03-25T01:50:44.092104Z",
     "shell.execute_reply.started": "2024-03-25T01:50:44.087388Z"
    }
   },
   "outputs": [
    {
     "name": "stdout",
     "output_type": "stream",
     "text": [
      "Number of CPU cores: 8, Number of CPU threads: 8\n",
      "time: 708 µs (started: 2024-03-25 01:50:44 +00:00)\n"
     ]
    }
   ],
   "source": [
    "def get_cpu_info():\n",
    "    num_cores = os.cpu_count()\n",
    "    num_threads = multiprocessing.cpu_count()\n",
    "    return num_cores, num_threads\n",
    "\n",
    "cores, threads = get_cpu_info()\n",
    "print(f\"Number of CPU cores: {cores}, Number of CPU threads: {threads}\")"
   ]
  },
  {
   "cell_type": "code",
   "execution_count": 6,
   "metadata": {
    "execution": {
     "iopub.execute_input": "2024-03-25T01:50:44.094990Z",
     "iopub.status.busy": "2024-03-25T01:50:44.094727Z",
     "iopub.status.idle": "2024-03-25T01:50:44.114856Z",
     "shell.execute_reply": "2024-03-25T01:50:44.114070Z",
     "shell.execute_reply.started": "2024-03-25T01:50:44.094965Z"
    }
   },
   "outputs": [
    {
     "name": "stdout",
     "output_type": "stream",
     "text": [
      "time: 3.45 ms (started: 2024-03-25 01:50:44 +00:00)\n"
     ]
    }
   ],
   "source": [
    "# @title OriginalACOGWO Original\n",
    "class OriginalACOGWO(Optimizer):\n",
    "    def __init__(self, epoch: int = 10000, pop_size: int = 100, sample_count: int = 25,\n",
    "                 intent_factor: float = 0.5, zeta: float = 1.0, **kwargs: object) -> None:\n",
    "        \"\"\"\n",
    "        Args:\n",
    "            epoch: maximum number of iterations, default = 10000\n",
    "            pop_size: number of population size, default = 100\n",
    "            sample_count: Number of Newly Generated Samples, default = 25\n",
    "            intent_factor: Intensification Factor (Selection Pressure) (q in the paper), default = 0.5\n",
    "            zeta: Deviation-Distance Ratio, default = 1.0\n",
    "        \"\"\"\n",
    "        super().__init__(**kwargs)\n",
    "        self.epoch = self.validator.check_int(\"epoch\", epoch, [1, 100000])\n",
    "        self.pop_size = self.validator.check_int(\"pop_size\", pop_size, [5, 10000])\n",
    "        self.sample_count = self.validator.check_int(\"sample_count\", sample_count, [2, 10000])\n",
    "        self.intent_factor = self.validator.check_float(\"intent_factor\", intent_factor, (0, 1.0))\n",
    "        self.zeta = self.validator.check_float(\"zeta\", zeta, (0, 5))\n",
    "        self.set_parameters([\"epoch\", \"pop_size\", \"sample_count\", \"intent_factor\", \"zeta\"])\n",
    "        self.sort_flag = True\n",
    "\n",
    "    def evolve(self, epoch):\n",
    "        \"\"\"\n",
    "        The main operations of the ACOCGWO hybrid algorithm.\n",
    "        Args:\n",
    "            epoch (int): The current iteration\n",
    "        \"\"\"\n",
    "        # Calculate ACO Selection Probabilities\n",
    "        pop_rank = np.array([idx for idx in range(1, self.pop_size + 1)])\n",
    "        qn = self.intent_factor * self.pop_size\n",
    "        matrix_w = 1 / (np.sqrt(2 * np.pi) * qn) * np.exp(-0.5 * ((pop_rank - 1) / qn) ** 2)\n",
    "        matrix_p = matrix_w / np.sum(matrix_w)  # Normalize to find the probability.\n",
    "\n",
    "        # ACO Exploration\n",
    "        matrix_pos = np.array([agent.solution for agent in self.pop])\n",
    "        matrix_sigma = []\n",
    "        for idx in range(0, self.pop_size):\n",
    "            matrix_i = np.repeat(self.pop[idx].solution.reshape((1, -1)), self.pop_size, axis=0)\n",
    "            D = np.sum(np.abs(matrix_pos - matrix_i), axis=0)\n",
    "            temp = self.zeta * D / (self.pop_size - 1)\n",
    "            matrix_sigma.append(temp)\n",
    "        matrix_sigma = np.array(matrix_sigma)\n",
    "\n",
    "        # Generate ACO Samples\n",
    "        pop_new_aco = []\n",
    "        for idx in range(0, self.sample_count):\n",
    "            child = np.zeros(self.problem.n_dims)\n",
    "            for jdx in range(0, self.problem.n_dims):\n",
    "                rdx = self.get_index_roulette_wheel_selection(matrix_p)\n",
    "                child[jdx] = self.pop[rdx].solution[jdx] + self.generator.normal() * matrix_sigma[rdx, jdx]\n",
    "            pos_new_aco = self.correct_solution(child)\n",
    "            agent = self.generate_empty_agent(pos_new_aco)\n",
    "            pop_new_aco.append(agent)\n",
    "            if self.mode not in self.AVAILABLE_MODES:\n",
    "                pop_new_aco[-1].target = self.get_target(pos_new_aco)\n",
    "        pop_new_aco = self.update_target_for_population(pop_new_aco)\n",
    "        self.pop = self.get_sorted_and_trimmed_population(self.pop + pop_new_aco, self.pop_size, self.problem.minmax)\n",
    "\n",
    "        # GWO Exploitation\n",
    "        a = 2 - 2. * epoch / self.epoch\n",
    "        _, list_best, _ = self.get_special_agents(self.pop, n_best=3, minmax=self.problem.minmax)\n",
    "        pop_new_gwo = []\n",
    "        for idx in range(0, self.pop_size):\n",
    "            A1 = a * (2 * self.generator.random(self.problem.n_dims) - 1)\n",
    "            A2 = a * (2 * self.generator.random(self.problem.n_dims) - 1)\n",
    "            A3 = a * (2 * self.generator.random(self.problem.n_dims) - 1)\n",
    "            C1 = 2 * self.generator.random(self.problem.n_dims)\n",
    "            C2 = 2 * self.generator.random(self.problem.n_dims)\n",
    "            C3 = 2 * self.generator.random(self.problem.n_dims)\n",
    "            X1 = list_best[0].solution - A1 * np.abs(C1 * list_best[0].solution - self.pop[idx].solution)\n",
    "            X2 = list_best[1].solution - A2 * np.abs(C2 * list_best[1].solution - self.pop[idx].solution)\n",
    "            X3 = list_best[2].solution - A3 * np.abs(C3 * list_best[2].solution - self.pop[idx].solution)\n",
    "            pos_new_gwo = (X1 + X2 + X3) / 3.0\n",
    "            pos_new_gwo = self.correct_solution(pos_new_gwo)\n",
    "            agent = self.generate_empty_agent(pos_new_gwo)\n",
    "            pop_new_gwo.append(agent)\n",
    "            if self.mode not in self.AVAILABLE_MODES:\n",
    "                agent.target = self.get_target(pos_new_gwo)\n",
    "                self.pop[idx] = self.get_better_agent(agent, self.pop[idx], self.problem.minmax)\n",
    "        if self.mode in self.AVAILABLE_MODES:\n",
    "            pop_new_gwo = self.update_target_for_population(pop_new_gwo)\n",
    "            self.pop = self.greedy_selection_population(self.pop, pop_new_gwo, self.problem.minmax)"
   ]
  },
  {
   "cell_type": "code",
   "execution_count": 7,
   "metadata": {
    "colab": {
     "base_uri": "https://localhost:8080/"
    },
    "execution": {
     "iopub.execute_input": "2024-03-25T01:50:44.116759Z",
     "iopub.status.busy": "2024-03-25T01:50:44.116446Z",
     "iopub.status.idle": "2024-03-25T01:50:44.140844Z",
     "shell.execute_reply": "2024-03-25T01:50:44.139935Z",
     "shell.execute_reply.started": "2024-03-25T01:50:44.116733Z"
    },
    "id": "FqW5ZeDERBkM",
    "jupyter": {
     "source_hidden": true
    },
    "outputId": "8b518af3-c341-4596-87f8-68d2425e9d91"
   },
   "outputs": [
    {
     "name": "stdout",
     "output_type": "stream",
     "text": [
      "time: 3.84 ms (started: 2024-03-25 01:50:44 +00:00)\n"
     ]
    }
   ],
   "source": [
    "class ImprovedACOGWO(Optimizer):\n",
    "    def __init__(self, epoch: int = 10000, pop_size: int = 100, sample_count: int = 25,\n",
    "                 intent_factor: float = 0.5, zeta: float = 1.0, **kwargs: object) -> None:\n",
    "        \"\"\"\n",
    "        Args:\n",
    "            epoch: maximum number of iterations, default = 10000\n",
    "            pop_size: number of population size, default = 100\n",
    "            sample_count: Number of Newly Generated Samples, default = 25\n",
    "            intent_factor: Intensification Factor (Selection Pressure) (q in the paper), default = 0.5\n",
    "            zeta: Deviation-Distance Ratio, default = 1.0\n",
    "        \"\"\"\n",
    "        super().__init__(**kwargs)\n",
    "        self.epoch = self.validator.check_int(\"epoch\", epoch, [1, 100000])\n",
    "        self.pop_size = self.validator.check_int(\"pop_size\", pop_size, [5, 10000])\n",
    "        self.sample_count = self.validator.check_int(\"sample_count\", sample_count, [2, 10000])\n",
    "        self.intent_factor = self.validator.check_float(\"intent_factor\", intent_factor, (0, 1.0))\n",
    "        self.zeta = self.validator.check_float(\"zeta\", zeta, (0, 5))\n",
    "        self.set_parameters([\"epoch\", \"pop_size\", \"sample_count\", \"intent_factor\", \"zeta\"])\n",
    "        self.sort_flag = True\n",
    "\n",
    "    def evolve(self, epoch):\n",
    "        \"\"\"\n",
    "        The main operations of the ACOCGWO hybrid algorithm.\n",
    "\n",
    "        Args:\n",
    "            epoch (int): The current iteration\n",
    "        \"\"\"\n",
    "        # Calculate ACO Selection Probabilities\n",
    "        pop_rank = np.array([idx for idx in range(1, self.pop_size + 1)])\n",
    "        qn = self.intent_factor * self.pop_size\n",
    "        matrix_w = 1 / (np.sqrt(2 * np.pi) * qn) * np.exp(-0.5 * ((pop_rank - 1) / qn) ** 2)\n",
    "        matrix_p = matrix_w / np.sum(matrix_w)  # Normalize to find the probability.\n",
    "\n",
    "        # ACO Exploration\n",
    "        matrix_pos = np.array([agent.solution for agent in self.pop[:self.pop_size]])\n",
    "        matrix_sigma = []\n",
    "        for idx in range(self.pop_size):\n",
    "            matrix_i = self.pop[idx].solution[np.newaxis, :] ####Numpy broadcasting\n",
    "            matrix_i = np.tile(matrix_i, (self.pop_size, 1)) ######More easy understand using np.tile instead of np.repeat\n",
    "            D = np.sum(np.abs(matrix_pos - matrix_i), axis=0)\n",
    "            temp = self.zeta * D / (self.pop_size - 1)\n",
    "            matrix_sigma.append(temp)\n",
    "        matrix_sigma = np.array(matrix_sigma)\n",
    "\n",
    "        # Generate ACO Samples\n",
    "        if self.sample_count > 0:\n",
    "            # random_numbers = [self.generator.normal() for _ in range(self.problem.n_dims)]\n",
    "            # random_numbers = np.random.rand(self.sample_count, self.problem.n_dims)\n",
    "            children = np.zeros((self.sample_count, self.problem.n_dims))\n",
    "            # Generate all children at once\n",
    "            for jdx in range(self.problem.n_dims):\n",
    "                rdx = self.get_index_roulette_wheel_selection(matrix_p)\n",
    "                children[:, jdx] = self.pop[rdx].solution[jdx] + self.generator.normal() * matrix_sigma[rdx, jdx]\n",
    "            # Correct all solutions at once\n",
    "            children = np.apply_along_axis(self.correct_solution, 1, children)\n",
    "            # Generate all agents at once\n",
    "            pop_new_aco = [self.generate_empty_agent(pos_new_aco) for pos_new_aco in children]\n",
    "            if self.mode not in self.AVAILABLE_MODES:\n",
    "                targets = np.apply_along_axis(self.get_target, 1, children)\n",
    "                for agent, target in zip(pop_new_aco, targets):\n",
    "                    agent.target = target\n",
    "            pop_new_aco = self.update_target_for_population(pop_new_aco)\n",
    "            self.pop[:self.pop_size] = self.get_sorted_and_trimmed_population(\n",
    "                self.pop[:self.pop_size] + pop_new_aco, self.pop_size, self.problem.minmax)\n",
    "\n",
    "        # GWO Exploitation\n",
    "        a = 2 - 2. * epoch / self.epoch\n",
    "        _, list_best, _ = self.get_special_agents(self.pop[:self.pop_size], n_best=3, minmax=self.problem.minmax)\n",
    "        pop_new_gwo = []\n",
    "        for idx in range(0, self.pop_size):\n",
    "            current_solution = self.pop[idx].solution\n",
    "            A1 = a * (2 * self.generator.random(self.problem.n_dims) - 1)\n",
    "            A2 = a * (2 * self.generator.random(self.problem.n_dims) - 1)\n",
    "            A3 = a * (2 * self.generator.random(self.problem.n_dims) - 1)\n",
    "            C1 = 2 * self.generator.random(self.problem.n_dims)\n",
    "            C2 = 2 * self.generator.random(self.problem.n_dims)\n",
    "            C3 = 2 * self.generator.random(self.problem.n_dims)\n",
    "            X1 = list_best[0].solution - A1 * np.abs(C1 * list_best[0].solution - current_solution)\n",
    "            X2 = list_best[1].solution - A2 * np.abs(C2 * list_best[1].solution - current_solution)\n",
    "            X3 = list_best[2].solution - A3 * np.abs(C3 * list_best[2].solution - current_solution)\n",
    "            pos_new_gwo = (X1 + X2 + X3) / 3.0\n",
    "            pos_new_gwo = self.correct_solution(pos_new_gwo)\n",
    "            agent = self.generate_empty_agent(pos_new_gwo)\n",
    "            pop_new_gwo.append(agent)\n",
    "            if self.mode not in self.AVAILABLE_MODES:\n",
    "                agent.target = self.get_target(pos_new_gwo)\n",
    "                self.pop[idx] = self.get_better_agent(agent, self.pop[idx], self.problem.minmax)\n",
    "        if self.mode in self.AVAILABLE_MODES:\n",
    "            pop_new_gwo = self.update_target_for_population(pop_new_gwo)\n",
    "            self.pop[:self.pop_size] = self.greedy_selection_population(\n",
    "                self.pop[:self.pop_size], pop_new_gwo, self.problem.minmax)"
   ]
  },
  {
   "cell_type": "code",
   "execution_count": 8,
   "metadata": {
    "colab": {
     "base_uri": "https://localhost:8080/"
    },
    "execution": {
     "iopub.execute_input": "2024-03-25T01:50:44.142305Z",
     "iopub.status.busy": "2024-03-25T01:50:44.141993Z",
     "iopub.status.idle": "2024-03-25T01:50:44.384374Z",
     "shell.execute_reply": "2024-03-25T01:50:44.383240Z",
     "shell.execute_reply.started": "2024-03-25T01:50:44.142269Z"
    },
    "id": "uS-Y3t7gRFmG",
    "jupyter": {
     "source_hidden": true
    },
    "outputId": "dfd1956b-7dfa-4beb-94a9-8aa824f9c444"
   },
   "outputs": [
    {
     "name": "stdout",
     "output_type": "stream",
     "text": [
      "time: 228 ms (started: 2024-03-25 01:50:44 +00:00)\n"
     ]
    }
   ],
   "source": [
    "from opfunu.cec_based.cec2014 import F12014, F12014, F22014, F32014, F42014, F52014, F62014, F72014, F82014, F92014, F102014, F112014, F122014, F132014, F142014, F152014, F162014, F172014, F182014, F192014, F202014, F212014, F222014, F232014, F242014, F252014, F262014, F272014, F282014, F292014, F302014\n",
    "\n",
    "F12014 = F12014()\n",
    "F22014 = F22014()\n",
    "F32014 = F32014()\n",
    "F42014 = F42014()\n",
    "F52014 = F52014()\n",
    "F62014 = F62014()\n",
    "F72014 = F72014()\n",
    "F82014 = F82014()\n",
    "F92014 = F92014()\n",
    "F102014 = F102014()\n",
    "F112014 = F112014()\n",
    "F122014 = F122014()\n",
    "F132014 = F132014()\n",
    "F142014 = F142014()\n",
    "F152014 = F152014()\n",
    "F162014 = F162014()\n",
    "F172014 = F172014()\n",
    "F182014 = F182014()\n",
    "F192014 = F192014()\n",
    "F202014 = F202014()\n",
    "F212014 = F212014()\n",
    "F222014 = F222014()\n",
    "F232014 = F232014()\n",
    "F242014 = F242014()\n",
    "F252014 = F252014()\n",
    "F262014 = F262014()\n",
    "F272014 = F272014()\n",
    "F282014 = F282014()\n",
    "F292014 = F292014()\n",
    "F302014 = F302014()\n",
    "\n",
    "F12014_problem_dict = {\n",
    "    \"obj_func\": F12014.evaluate,\n",
    "    \"bounds\": FloatVar(lb=(-100., )*30, ub=(100., )*30),\n",
    "    \"minmax\": \"min\",\n",
    "    \"name\":\"F12014\",\n",
    "    \"obj_weights\": [1],\n",
    "    \"save_population\": True,\n",
    "    \"log_to\": \"P\",\n",
    "    \"log_file\": \"F12014_history.txt\"\n",
    "}\n",
    "\n",
    "def CEC2014_objective_function(x):\n",
    "\n",
    "    return [F12014.evaluate(x), F22014.evaluate(x), F32014.evaluate(x), F42014.evaluate(x), F52014.evaluate(x), F62014.evaluate(x),\n",
    "        F72014.evaluate(x), F82014.evaluate(x), F92014.evaluate(x), F102014.evaluate(x), F112014.evaluate(x), F122014.evaluate(x),\n",
    "        F132014.evaluate(x), F142014.evaluate(x), F152014.evaluate(x), F162014.evaluate(x), F172014.evaluate(x), F182014.evaluate(x),\n",
    "        F192014.evaluate(x), F202014.evaluate(x), F212014.evaluate(x), F222014.evaluate(x), F232014.evaluate(x), F242014.evaluate(x),\n",
    "        F252014.evaluate(x), F262014.evaluate(x), F272014.evaluate(x), F282014.evaluate(x), F292014.evaluate(x), F302014.evaluate(x)]"
   ]
  },
  {
   "cell_type": "code",
   "execution_count": 9,
   "metadata": {
    "colab": {
     "base_uri": "https://localhost:8080/"
    },
    "execution": {
     "iopub.execute_input": "2024-03-25T01:50:44.385873Z",
     "iopub.status.busy": "2024-03-25T01:50:44.385618Z",
     "iopub.status.idle": "2024-03-25T01:50:44.396832Z",
     "shell.execute_reply": "2024-03-25T01:50:44.395895Z",
     "shell.execute_reply.started": "2024-03-25T01:50:44.385848Z"
    },
    "id": "HUxIPj7W1kq3",
    "outputId": "e5840108-de1f-47b9-91d9-aebecb1fa996"
   },
   "outputs": [
    {
     "name": "stdout",
     "output_type": "stream",
     "text": [
      "[{'obj_func': <bound method F212014.evaluate of <opfunu.cec_based.cec2014.F212014 object at 0x7f60a44bc820>>, 'bounds': <mealpy.utils.space.FloatVar object at 0x7f60a44c18b0>, 'minmax': 'min', 'name': 'F212014', 'obj_weights': [1], 'save_population': True, 'log_to': None}, {'obj_func': <bound method F222014.evaluate of <opfunu.cec_based.cec2014.F222014 object at 0x7f6070dc3100>>, 'bounds': <mealpy.utils.space.FloatVar object at 0x7f60a44c1eb0>, 'minmax': 'min', 'name': 'F222014', 'obj_weights': [1], 'save_population': True, 'log_to': None}, {'obj_func': <bound method F232014.evaluate of <opfunu.cec_based.cec2014.F232014 object at 0x7f6070df2a30>>, 'bounds': <mealpy.utils.space.FloatVar object at 0x7f60a44c1910>, 'minmax': 'min', 'name': 'F232014', 'obj_weights': [1], 'save_population': True, 'log_to': None}, {'obj_func': <bound method F242014.evaluate of <opfunu.cec_based.cec2014.F242014 object at 0x7f6070df2c40>>, 'bounds': <mealpy.utils.space.FloatVar object at 0x7f60a44c1fa0>, 'minmax': 'min', 'name': 'F242014', 'obj_weights': [1], 'save_population': True, 'log_to': None}, {'obj_func': <bound method F252014.evaluate of <opfunu.cec_based.cec2014.F252014 object at 0x7f6070e97a00>>, 'bounds': <mealpy.utils.space.FloatVar object at 0x7f60a44c1af0>, 'minmax': 'min', 'name': 'F252014', 'obj_weights': [1], 'save_population': True, 'log_to': None}, {'obj_func': <bound method F262014.evaluate of <opfunu.cec_based.cec2014.F262014 object at 0x7f6070daa610>>, 'bounds': <mealpy.utils.space.FloatVar object at 0x7f60a44c16a0>, 'minmax': 'min', 'name': 'F262014', 'obj_weights': [1], 'save_population': True, 'log_to': None}, {'obj_func': <bound method F272014.evaluate of <opfunu.cec_based.cec2014.F272014 object at 0x7f60a44df400>>, 'bounds': <mealpy.utils.space.FloatVar object at 0x7f60a44c1790>, 'minmax': 'min', 'name': 'F272014', 'obj_weights': [1], 'save_population': True, 'log_to': None}, {'obj_func': <bound method F282014.evaluate of <opfunu.cec_based.cec2014.F282014 object at 0x7f60a44dfb20>>, 'bounds': <mealpy.utils.space.FloatVar object at 0x7f60a44bc640>, 'minmax': 'min', 'name': 'F282014', 'obj_weights': [1], 'save_population': True, 'log_to': None}, {'obj_func': <bound method F292014.evaluate of <opfunu.cec_based.cec2014.F292014 object at 0x7f6070e24f70>>, 'bounds': <mealpy.utils.space.FloatVar object at 0x7f60a44bca00>, 'minmax': 'min', 'name': 'F292014', 'obj_weights': [1], 'save_population': True, 'log_to': None}, {'obj_func': <bound method F302014.evaluate of <opfunu.cec_based.cec2014.F302014 object at 0x7f6070e18be0>>, 'bounds': <mealpy.utils.space.FloatVar object at 0x7f60a44bce80>, 'minmax': 'min', 'name': 'F302014', 'obj_weights': [1], 'save_population': True, 'log_to': None}]\n",
      "time: 5.36 ms (started: 2024-03-25 01:50:44 +00:00)\n"
     ]
    }
   ],
   "source": [
    "function_count = 30\n",
    "problems_list = []\n",
    "\n",
    "for i in range(1, function_count + 1):\n",
    "    function_name = f\"F{i}2014\"\n",
    "    class_name = f\"F{i}2014\"\n",
    "\n",
    "    # Assuming F12014, F22014, etc., are instances of a class\n",
    "    instance = globals()[class_name]\n",
    "\n",
    "    function_dict = {\n",
    "        \"obj_func\": instance.evaluate,\n",
    "        \"bounds\": FloatVar(lb=(-100., )*30, ub=(100., )*30),\n",
    "        \"minmax\": \"min\",\n",
    "        \"name\": function_name,\n",
    "        \"obj_weights\": [1],\n",
    "        \"save_population\": True,\n",
    "        \"log_to\": None\n",
    "    }\n",
    "    problems_list.append(function_dict)\n",
    "\n",
    "# Now function_dicts contains dictionaries for F12014 to F302014\n",
    "print(problems_list[20:])"
   ]
  },
  {
   "cell_type": "code",
   "execution_count": 10,
   "metadata": {
    "execution": {
     "iopub.execute_input": "2024-03-25T01:50:44.398303Z",
     "iopub.status.busy": "2024-03-25T01:50:44.398053Z",
     "iopub.status.idle": "2024-03-25T01:50:44.406284Z",
     "shell.execute_reply": "2024-03-25T01:50:44.405352Z",
     "shell.execute_reply.started": "2024-03-25T01:50:44.398278Z"
    }
   },
   "outputs": [
    {
     "name": "stdout",
     "output_type": "stream",
     "text": [
      "time: 1.34 ms (started: 2024-03-25 01:50:44 +00:00)\n"
     ]
    }
   ],
   "source": [
    "CEC2014_problem_dict = {\n",
    "    \"obj_func\": CEC2014_objective_function,\n",
    "    \"bounds\": FloatVar(lb=(-100., )*30, ub=(100., )*30),\n",
    "    \"minmax\": \"min\",\n",
    "    \"name\" : \"CEC2014\",\n",
    "    \"obj_weights\": [1,]*30,\n",
    "}\n",
    "\n",
    "def sphere_func(x):\n",
    "    x = np.array(x).ravel()\n",
    "    return np.sum(x ** 2)\n",
    "\n",
    "problem_dict = {\n",
    "    \"obj_func\": sphere_func,\n",
    "    \"bounds\": FloatVar(lb=(-100., )*30, ub=(100., )*30),\n",
    "    \"minmax\": \"min\",\n",
    "}"
   ]
  },
  {
   "cell_type": "code",
   "execution_count": 11,
   "metadata": {
    "colab": {
     "base_uri": "https://localhost:8080/"
    },
    "execution": {
     "iopub.execute_input": "2024-03-25T01:50:44.408721Z",
     "iopub.status.busy": "2024-03-25T01:50:44.408468Z",
     "iopub.status.idle": "2024-03-25T01:50:44.416361Z",
     "shell.execute_reply": "2024-03-25T01:50:44.415431Z",
     "shell.execute_reply.started": "2024-03-25T01:50:44.408697Z"
    },
    "id": "Mcp4VH8B0CsO",
    "outputId": "0e3d1977-5361-4518-d167-253aef238c5b"
   },
   "outputs": [
    {
     "name": "stdout",
     "output_type": "stream",
     "text": [
      "time: 1.55 ms (started: 2024-03-25 01:50:44 +00:00)\n"
     ]
    }
   ],
   "source": [
    "term = {\n",
    "      \"max_fe\": 300000,\n",
    "      \"epsilon\": 1e-8\n",
    " }\n",
    "pop_size = np.random.randint(0,30)\n",
    "\n",
    "ImproACOGWO = ImprovedACOGWO(epoch=3000, pop_size=30, zeta=0.5, intent_factor=0.5)\n",
    "ACOGWO = OriginalACOGWO(epoch=3000, pop_size=30, zeta=0.5, intent_factor=0.5)\n",
    "OriGWO = GWO.OriginalGWO(epoch=3000, pop_size=30)\n",
    "RWGWO = GWO.RW_GWO(epoch=3000, pop_size=30)\n",
    "ACO = ACOR.OriginalACOR(epoch=3000, pop_size=30, zeta=0.5, intent_factor=0.5)"
   ]
  },
  {
   "cell_type": "code",
   "execution_count": null,
   "metadata": {
    "colab": {
     "base_uri": "https://localhost:8080/",
     "height": 1000
    },
    "execution": {
     "iopub.execute_input": "2024-03-25T01:51:15.499063Z",
     "iopub.status.busy": "2024-03-25T01:51:15.498032Z"
    },
    "id": "41dfrVay7LBS",
    "outputId": "8dde2eaf-6e26-4534-cd5d-d41a70763aab"
   },
   "outputs": [
    {
     "name": "stdout",
     "output_type": "stream",
     "text": [
      "Solving problem: F212014 using algorithm: OriginalACOGWO, on the: 1 trial\n",
      "Solving problem: F212014 using algorithm: OriginalACOGWO, on the: 2 trial\n",
      "Solving problem: F212014 using algorithm: OriginalACOGWO, on the: 3 trial\n",
      "Solving problem: F212014 using algorithm: OriginalACOGWO, on the: 4 trial\n",
      "Solving problem: F212014 using algorithm: OriginalACOGWO, on the: 5 trial\n",
      "Solving problem: F222014 using algorithm: OriginalACOGWO, on the: 1 trial\n",
      "Solving problem: F222014 using algorithm: OriginalACOGWO, on the: 2 trial\n",
      "Solving problem: F222014 using algorithm: OriginalACOGWO, on the: 3 trial\n",
      "Solving problem: F222014 using algorithm: OriginalACOGWO, on the: 4 trial\n",
      "Solving problem: F222014 using algorithm: OriginalACOGWO, on the: 5 trial\n",
      "Solving problem: F232014 using algorithm: OriginalACOGWO, on the: 1 trial\n",
      "Solving problem: F232014 using algorithm: OriginalACOGWO, on the: 2 trial\n",
      "Solving problem: F232014 using algorithm: OriginalACOGWO, on the: 3 trial\n",
      "Solving problem: F232014 using algorithm: OriginalACOGWO, on the: 4 trial\n",
      "Solving problem: F232014 using algorithm: OriginalACOGWO, on the: 5 trial\n",
      "Solving problem: F242014 using algorithm: OriginalACOGWO, on the: 1 trial\n",
      "Solving problem: F242014 using algorithm: OriginalACOGWO, on the: 2 trial\n",
      "Solving problem: F242014 using algorithm: OriginalACOGWO, on the: 3 trial\n",
      "Solving problem: F242014 using algorithm: OriginalACOGWO, on the: 4 trial\n",
      "Solving problem: F242014 using algorithm: OriginalACOGWO, on the: 5 trial\n",
      "Solving problem: F252014 using algorithm: OriginalACOGWO, on the: 1 trial\n",
      "Solving problem: F252014 using algorithm: OriginalACOGWO, on the: 2 trial\n",
      "Solving problem: F252014 using algorithm: OriginalACOGWO, on the: 3 trial\n",
      "Solving problem: F252014 using algorithm: OriginalACOGWO, on the: 4 trial\n",
      "Solving problem: F252014 using algorithm: OriginalACOGWO, on the: 5 trial\n",
      "Solving problem: F262014 using algorithm: OriginalACOGWO, on the: 1 trial\n",
      "Solving problem: F262014 using algorithm: OriginalACOGWO, on the: 2 trial\n",
      "Solving problem: F262014 using algorithm: OriginalACOGWO, on the: 3 trial\n",
      "Solving problem: F262014 using algorithm: OriginalACOGWO, on the: 4 trial\n",
      "Solving problem: F262014 using algorithm: OriginalACOGWO, on the: 5 trial\n",
      "Solving problem: F272014 using algorithm: OriginalACOGWO, on the: 1 trial\n",
      "Solving problem: F272014 using algorithm: OriginalACOGWO, on the: 2 trial\n"
     ]
    }
   ],
   "source": [
    "multitask = Multitask(algorithms=(ACOGWO,), problems=problems_list[20:], modes=(\"thread\", ), n_workers=8) #terminations=(term, )\n",
    "multitask.execute(n_trials=5, n_jobs=None, save_path=\"FS_experiment/real\", save_as=\"csv\", save_convergence=True, verbose=True)"
   ]
  },
  {
   "cell_type": "code",
   "execution_count": 12,
   "metadata": {
    "execution": {
     "iopub.execute_input": "2024-03-25T01:51:09.395585Z",
     "iopub.status.busy": "2024-03-25T01:51:09.395110Z",
     "iopub.status.idle": "2024-03-25T01:51:10.007735Z",
     "shell.execute_reply": "2024-03-25T01:51:10.006998Z",
     "shell.execute_reply.started": "2024-03-25T01:51:09.395555Z"
    }
   },
   "outputs": [
    {
     "name": "stdout",
     "output_type": "stream",
     "text": [
      "convergence_rate_ACOGWO.zip success zipping...\n",
      "time: 608 ms (started: 2024-03-25 01:51:09 +00:00)\n"
     ]
    }
   ],
   "source": [
    "folder_to_zip = os.path.join(os.getcwd(),'FS_experiment/real')\n",
    "zip_file_name = 'convergence_rate_ACOGWO.zip'\n",
    "with zipfile.ZipFile(zip_file_name, 'w', zipfile.ZIP_DEFLATED) as zipf:\n",
    "    for foldername, subfolders, filenames in os.walk(folder_to_zip):\n",
    "        for filename in filenames:\n",
    "            file_path = os.path.join(foldername, filename)\n",
    "            arcname = os.path.relpath(file_path, folder_to_zip)\n",
    "            zipf.write(file_path, arcname)\n",
    "zipf.close()\n",
    "\n",
    "print(f\"{zip_file_name} success zipping...\")"
   ]
  },
  {
   "cell_type": "code",
   "execution_count": null,
   "metadata": {
    "id": "0MgZgiMCRXpk"
   },
   "outputs": [],
   "source": [
    "algorithm0 = Iacogwo.solve(problem=function_dicts[1], seed=42)\n",
    "print(f\"Best Solution: {algorithm0.solution}\\n Best Fitness: {algorithm0.target.fitness}\")"
   ]
  },
  {
   "cell_type": "code",
   "execution_count": null,
   "metadata": {
    "id": "jGNQidKLRkCG"
   },
   "outputs": [],
   "source": [
    "algorithm1 = gwo.solve(problem=CEC2014_problem_dict, seed=42)\n",
    "print(f\"Best Solution: {algorithm1.solution}\\n Best Fitness: {algorithm1.target.fitness}\")"
   ]
  },
  {
   "cell_type": "code",
   "execution_count": null,
   "metadata": {
    "id": "HqZUQmqPaCjG"
   },
   "outputs": [],
   "source": [
    "algorithm2 = aco.solve(problem=F2014_problem_dict, seed=42)\n",
    "print(f\"Best Solution: {algorithm2.solution}\\n Best Fitness: {algorithm2.target.fitness}\")"
   ]
  },
  {
   "cell_type": "code",
   "execution_count": null,
   "metadata": {
    "id": "airwwokgUcKv"
   },
   "outputs": [],
   "source": [
    "class ImprovedACOGWO(Optimizer):\n",
    "    def __init__(self, epoch: int = 10000, pop_size: int = 100, sample_count: int = 25,\n",
    "                 intent_factor: float = 0.5, zeta: float = 1.0, **kwargs: object) -> None:\n",
    "        \"\"\"\n",
    "        Args:\n",
    "            epoch: maximum number of iterations, default = 10000\n",
    "            pop_size: number of population size, default = 100\n",
    "            sample_count: Number of Newly Generated Samples, default = 25\n",
    "            intent_factor: Intensification Factor (Selection Pressure) (q in the paper), default = 0.5\n",
    "            zeta: Deviation-Distance Ratio, default = 1.0\n",
    "        \"\"\"\n",
    "        super().__init__(**kwargs)\n",
    "        self.epoch = self.validator.check_int(\"epoch\", epoch, [1, 100000])\n",
    "        self.pop_size = self.validator.check_int(\"pop_size\", pop_size, [5, 10000])\n",
    "        self.sample_count = self.validator.check_int(\"sample_count\", sample_count, [2, 10000])\n",
    "        self.intent_factor = self.validator.check_float(\"intent_factor\", intent_factor, (0, 1.0))\n",
    "        self.zeta = self.validator.check_float(\"zeta\", zeta, (0, 5))\n",
    "        self.set_parameters([\"epoch\", \"pop_size\", \"sample_count\", \"intent_factor\", \"zeta\"])\n",
    "        self.sort_flag = True\n",
    "\n",
    "    def evolve(self, epoch):\n",
    "        \"\"\"\n",
    "        The main operations of the ACOCGWO hybrid algorithm.\n",
    "\n",
    "        Args:\n",
    "            epoch (int): The current iteration\n",
    "        \"\"\"\n",
    "        # Calculate ACO Selection Probabilities\n",
    "        pop_rank = np.array([idx for idx in range(1, self.pop_size + 1)])\n",
    "        qn = self.intent_factor * self.pop_size\n",
    "        matrix_w = 1 / (np.sqrt(2 * np.pi) * qn) * np.exp(-0.5 * ((pop_rank - 1) / qn) ** 2)\n",
    "        matrix_p = matrix_w / np.sum(matrix_w)  # Normalize to find the probability.\n",
    "\n",
    "        # ACO Exploration\n",
    "        matrix_pos = np.array([agent.solution for agent in self.pop[:self.pop_size]])\n",
    "        matrix_sigma = self.zeta * np.sum(np.abs(matrix_pos[:, None, :] - matrix_pos[None, :, :]), axis=0) / (self.pop_size - 1)\n",
    "\n",
    "        # Generate ACO Samples\n",
    "        if self.sample_count > 0:\n",
    "          pop_new_aco = []\n",
    "          random_numbers = [self.generator.normal() for _ in range(self.problem.n_dims)]\n",
    "          for idx in range(0, self.sample_count):\n",
    "              child = np.zeros(self.problem.n_dims)\n",
    "              for jdx in range(0, self.problem.n_dims):\n",
    "                  rdx = self.get_index_roulette_wheel_selection(matrix_p)\n",
    "                  child[jdx] = self.pop[rdx].solution[jdx] + random_numbers[jdx] * matrix_sigma[rdx, jdx]\n",
    "              pos_new_aco = self.correct_solution(child)\n",
    "              agent = self.generate_empty_agent(pos_new_aco)\n",
    "              pop_new_aco.append(agent)\n",
    "              if self.mode not in self.AVAILABLE_MODES:\n",
    "                  pop_new_aco[-1].target = self.get_target(pos_new_aco)\n",
    "          pop_new_aco = self.update_target_for_population(pop_new_aco)\n",
    "          self.pop[:self.pop_size] = self.get_sorted_and_trimmed_population(\n",
    "              self.pop[:self.pop_size] + pop_new_aco, self.pop_size, self.problem.minmax)\n",
    "\n",
    "        # GWO Exploitation\n",
    "        a = 2 - 2. * epoch / self.epoch\n",
    "        _, list_best, _ = self.get_special_agents(self.pop[:self.pop_size], n_best=3, minmax=self.problem.minmax)\n",
    "        pop_new_gwo = []\n",
    "        for idx in range(0, self.pop_size):\n",
    "            current_solution = self.pop[idx].solution\n",
    "            A1 = a * (2 * self.generator.random(self.problem.n_dims) - 1)\n",
    "            A2 = a * (2 * self.generator.random(self.problem.n_dims) - 1)\n",
    "            A3 = a * (2 * self.generator.random(self.problem.n_dims) - 1)\n",
    "            C1 = 2 * self.generator.random(self.problem.n_dims)\n",
    "            C2 = 2 * self.generator.random(self.problem.n_dims)\n",
    "            C3 = 2 * self.generator.random(self.problem.n_dims)\n",
    "            X1 = list_best[0].solution - A1 * np.abs(C1 * list_best[0].solution - current_solution)\n",
    "            X2 = list_best[1].solution - A2 * np.abs(C2 * list_best[1].solution - current_solution)\n",
    "            X3 = list_best[2].solution - A3 * np.abs(C3 * list_best[2].solution - current_solution)\n",
    "            pos_new_gwo = (X1 + X2 + X3) / 3.0\n",
    "            pos_new_gwo = self.correct_solution(pos_new_gwo)\n",
    "            agent = self.generate_empty_agent(pos_new_gwo)\n",
    "            pop_new_gwo.append(agent)\n",
    "            if self.mode not in self.AVAILABLE_MODES:\n",
    "                agent.target = self.get_target(pos_new_gwo)\n",
    "                self.pop[idx] = self.get_better_agent(agent, self.pop[idx], self.problem.minmax)\n",
    "        if self.mode in self.AVAILABLE_MODES:\n",
    "            pop_new_gwo = self.update_target_for_population(pop_new_gwo)\n",
    "            self.pop[:self.pop_size] = self.greedy_selection_population(\n",
    "                self.pop[:self.pop_size], pop_new_gwo, self.problem.minmax)"
   ]
  }
 ],
 "metadata": {
  "colab": {
   "provenance": []
  },
  "kernelspec": {
   "display_name": "Python 3 (ipykernel)",
   "language": "python",
   "name": "python3"
  },
  "language_info": {
   "codemirror_mode": {
    "name": "ipython",
    "version": 3
   },
   "file_extension": ".py",
   "mimetype": "text/x-python",
   "name": "python",
   "nbconvert_exporter": "python",
   "pygments_lexer": "ipython3",
   "version": "3.9.16"
  }
 },
 "nbformat": 4,
 "nbformat_minor": 4
}
